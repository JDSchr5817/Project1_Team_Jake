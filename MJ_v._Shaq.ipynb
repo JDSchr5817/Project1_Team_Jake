{
 "cells": [
  {
   "cell_type": "code",
   "execution_count": 176,
   "metadata": {
    "scrolled": false
   },
   "outputs": [
    {
     "name": "stdout",
     "output_type": "stream",
     "text": [
      "  Player  Game        Date        Age Team  Home Opposition  Win  Difference  \\\n",
      "0     MJ     1  10/26/1984  21.689938  CHI     1        WSB    1          16   \n",
      "1     MJ     2  10/27/1984  21.692676  CHI     0        MIL    0          -2   \n",
      "2     MJ     3  10/29/1984  21.698152  CHI     1        MIL    1           6   \n",
      "3     MJ     4  10/30/1984  21.700890  CHI     0        KCK    1           5   \n",
      "4     MJ     5   11/1/1984  21.706366  CHI     0        DEN    0         -16   \n",
      "\n",
      "   GS  ...  ORB  DRB  TRB  AST  STL  BLK  TOV  PF  PTS  GmSc  \n",
      "0   1  ...    1    5    6    7    2    4    5   2   16  12.5  \n",
      "1   1  ...    3    2    5    5    2    1    3   4   21  19.4  \n",
      "2   1  ...    2    2    4    5    6    2    3   4   37  32.9  \n",
      "3   1  ...    2    2    4    5    3    1    6   5   25  14.7  \n",
      "4   1  ...    3    2    5    5    1    1    2   4   17  13.2  \n",
      "\n",
      "[5 rows x 30 columns]\n",
      "(2279, 30)\n",
      "<class 'pandas.core.frame.DataFrame'>\n",
      "Int64Index: 2279 entries, 0 to 1206\n",
      "Data columns (total 30 columns):\n",
      " #   Column          Non-Null Count  Dtype  \n",
      "---  ------          --------------  -----  \n",
      " 0   Player          2279 non-null   object \n",
      " 1   Game            2279 non-null   int64  \n",
      " 2   Date            2279 non-null   object \n",
      " 3   Age             2279 non-null   float64\n",
      " 4   Team            2279 non-null   object \n",
      " 5   Home            2279 non-null   int64  \n",
      " 6   Opposition      2279 non-null   object \n",
      " 7   Win             2279 non-null   int64  \n",
      " 8   Difference      2279 non-null   int64  \n",
      " 9   GS              2279 non-null   int64  \n",
      " 10  Minutes Played  2279 non-null   float64\n",
      " 11  FG              2279 non-null   int64  \n",
      " 12  FGA             2279 non-null   int64  \n",
      " 13  FG%             2278 non-null   float64\n",
      " 14  3P              2279 non-null   int64  \n",
      " 15  3PA             2279 non-null   int64  \n",
      " 16  3P%             764 non-null    float64\n",
      " 17  FT              2279 non-null   int64  \n",
      " 18  FTA             2279 non-null   int64  \n",
      " 19  FT%             2224 non-null   float64\n",
      " 20  ORB             2279 non-null   int64  \n",
      " 21  DRB             2279 non-null   int64  \n",
      " 22  TRB             2279 non-null   int64  \n",
      " 23  AST             2279 non-null   int64  \n",
      " 24  STL             2279 non-null   int64  \n",
      " 25  BLK             2279 non-null   int64  \n",
      " 26  TOV             2279 non-null   int64  \n",
      " 27  PF              2279 non-null   int64  \n",
      " 28  PTS             2279 non-null   int64  \n",
      " 29  GmSc            2279 non-null   float64\n",
      "dtypes: float64(6), int64(20), object(4)\n",
      "memory usage: 551.9+ KB\n"
     ]
    }
   ],
   "source": [
    "#Dependencies and Setup\n",
    "import matplotlib.pyplot as plt\n",
    "import pandas as pd\n",
    "import scipy.stats as st\n",
    "import numpy as np\n",
    "import scipy.stats as st\n",
    "from scipy.stats import linregress\n",
    "from scipy.stats import ttest_ind\n",
    "\n",
    "#Locating Data\n",
    "import os \n",
    "\n",
    "MJ_Stats_Path = os.path.join(\"Resources\", \"MJ-Stats.csv\")\n",
    "Shaq_Stats_Path = os.path.join(\"Resources\", \"Shaq-Stats.csv\")\n",
    "\n",
    "#Reading Data\n",
    "MJ_Stats = pd.read_csv(MJ_Stats_Path)\n",
    "Shaq_Stats = pd.read_csv(Shaq_Stats_Path)\n",
    "\n",
    "#Merge Data\n",
    "data_df = pd.concat([MJ_Stats, Shaq_Stats])\n",
    "\n",
    "#Print Stats\n",
    "print(data_df.head())\n",
    "print(data_df.shape)\n",
    "data_df.info()"
   ]
  },
  {
   "cell_type": "code",
   "execution_count": 177,
   "metadata": {
    "scrolled": true
   },
   "outputs": [],
   "source": [
    "MJ_df = data_df.loc[data_df[\"Player\"] == \"MJ\"].copy().dropna()\n",
    "Shaq_df = data_df.loc[data_df[\"Player\"] == \"Shaq\"].copy().dropna()"
   ]
  },
  {
   "cell_type": "code",
   "execution_count": 178,
   "metadata": {},
   "outputs": [
    {
     "data": {
      "text/plain": [
       "Player\n",
       "MJ      0.828564\n",
       "Shaq    0.523193\n",
       "Name: FT%, dtype: float64"
      ]
     },
     "execution_count": 178,
     "metadata": {},
     "output_type": "execute_result"
    }
   ],
   "source": [
    "df_FTmean = data_df.groupby([\"Player\"]).mean()[\"FT%\"]\n",
    "df_FTmean"
   ]
  },
  {
   "cell_type": "code",
   "execution_count": 179,
   "metadata": {},
   "outputs": [
    {
     "data": {
      "text/plain": [
       "Player\n",
       "MJ      0.846\n",
       "Shaq    0.500\n",
       "Name: FT%, dtype: float64"
      ]
     },
     "execution_count": 179,
     "metadata": {},
     "output_type": "execute_result"
    }
   ],
   "source": [
    "df_FTmedian = data_df.groupby([\"Player\"]).median()[\"FT%\"]\n",
    "df_FTmedian"
   ]
  },
  {
   "cell_type": "code",
   "execution_count": 180,
   "metadata": {},
   "outputs": [
    {
     "data": {
      "text/plain": [
       "0.8275769230769229"
      ]
     },
     "execution_count": 180,
     "metadata": {},
     "output_type": "execute_result"
    }
   ],
   "source": [
    "MJ_df['FT%'].mean()"
   ]
  },
  {
   "cell_type": "code",
   "execution_count": 181,
   "metadata": {},
   "outputs": [
    {
     "data": {
      "text/plain": [
       "0.5361363636363637"
      ]
     },
     "execution_count": 181,
     "metadata": {},
     "output_type": "execute_result"
    }
   ],
   "source": [
    "Shaq_df['FT%'].mean()"
   ]
  },
  {
   "cell_type": "code",
   "execution_count": 182,
   "metadata": {},
   "outputs": [
    {
     "data": {
      "text/plain": [
       "Ttest_indResult(statistic=8.196585177320415, pvalue=1.072009507122509e-15)"
      ]
     },
     "execution_count": 182,
     "metadata": {},
     "output_type": "execute_result"
    }
   ],
   "source": [
    "ttest_ind(MJ_df[\"FT%\"].values, Shaq_df[\"FT%\"].values, nan_policy='raise')\n"
   ]
  },
  {
   "cell_type": "code",
   "execution_count": null,
   "metadata": {},
   "outputs": [],
   "source": []
  },
  {
   "cell_type": "code",
   "execution_count": 198,
   "metadata": {},
   "outputs": [
    {
     "ename": "TypeError",
     "evalue": "'numpy.ndarray' object is not callable",
     "output_type": "error",
     "traceback": [
      "\u001b[1;31m---------------------------------------------------------------------------\u001b[0m",
      "\u001b[1;31mTypeError\u001b[0m                                 Traceback (most recent call last)",
      "\u001b[1;32m<ipython-input-198-63b04ecf131c>\u001b[0m in \u001b[0;36m<module>\u001b[1;34m\u001b[0m\n\u001b[1;32m----> 1\u001b[1;33m \u001b[0mMJ_list\u001b[0m \u001b[1;33m=\u001b[0m \u001b[0mMJ_df\u001b[0m\u001b[1;33m.\u001b[0m\u001b[0mvalues\u001b[0m\u001b[1;33m(\u001b[0m\u001b[1;33m)\u001b[0m\u001b[1;33m\u001b[0m\u001b[1;33m\u001b[0m\u001b[0m\n\u001b[0m",
      "\u001b[1;31mTypeError\u001b[0m: 'numpy.ndarray' object is not callable"
     ]
    }
   ],
   "source": [
    "MJ_list = MJ_df.values()"
   ]
  },
  {
   "cell_type": "code",
   "execution_count": null,
   "metadata": {},
   "outputs": [],
   "source": [
    "ax.boxplot([data list])"
   ]
  },
  {
   "cell_type": "code",
   "execution_count": null,
   "metadata": {},
   "outputs": [],
   "source": []
  }
 ],
 "metadata": {
  "kernelspec": {
   "display_name": "Python 3",
   "language": "python",
   "name": "python3"
  },
  "language_info": {
   "codemirror_mode": {
    "name": "ipython",
    "version": 3
   },
   "file_extension": ".py",
   "mimetype": "text/x-python",
   "name": "python",
   "nbconvert_exporter": "python",
   "pygments_lexer": "ipython3",
   "version": "3.8.5"
  }
 },
 "nbformat": 4,
 "nbformat_minor": 4
}

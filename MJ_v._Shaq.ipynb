{
 "cells": [
  {
   "cell_type": "code",
   "execution_count": 1,
   "metadata": {},
   "outputs": [
    {
     "name": "stdout",
     "output_type": "stream",
     "text": [
      "  Player  Game        Date        Age Team  Home Opposition  Win  Difference  \\\n",
      "0     MJ     1  10/26/1984  21.689938  CHI     1        WSB    1          16   \n",
      "1     MJ     2  10/27/1984  21.692676  CHI     0        MIL    0          -2   \n",
      "2     MJ     3  10/29/1984  21.698152  CHI     1        MIL    1           6   \n",
      "3     MJ     4  10/30/1984  21.700890  CHI     0        KCK    1           5   \n",
      "4     MJ     5   11/1/1984  21.706366  CHI     0        DEN    0         -16   \n",
      "\n",
      "   GS  ...  ORB  DRB  TRB  AST  STL  BLK  TOV  PF  PTS  GmSc  \n",
      "0   1  ...    1    5    6    7    2    4    5   2   16  12.5  \n",
      "1   1  ...    3    2    5    5    2    1    3   4   21  19.4  \n",
      "2   1  ...    2    2    4    5    6    2    3   4   37  32.9  \n",
      "3   1  ...    2    2    4    5    3    1    6   5   25  14.7  \n",
      "4   1  ...    3    2    5    5    1    1    2   4   17  13.2  \n",
      "\n",
      "[5 rows x 30 columns]\n",
      "(2279, 30)\n"
     ]
    }
   ],
   "source": [
    "#Dependencies and Setup\n",
    "import matplotlib.pyplot as plt\n",
    "import pandas as pd\n",
    "import scipy.stats as st\n",
    "import numpy as np\n",
    "import scipy.stats as st\n",
    "from scipy.stats import linregress\n",
    "\n",
    "#Locating Data\n",
    "import os \n",
    "\n",
    "MJ_Stats_Path = os.path.join(\"Resources\", \"MJ-Stats.csv\")\n",
    "Shaq_Stats_Path = os.path.join(\"Resources\", \"Shaq-Stats.csv\")\n",
    "\n",
    "#Reading Data\n",
    "MJ_Stats = pd.read_csv(MJ_Stats_Path)\n",
    "Shaq_Stats = pd.read_csv(Shaq_Stats_Path)\n",
    "\n",
    "#Merge Data\n",
    "data_df = pd.concat([MJ_Stats, Shaq_Stats])\n",
    "\n",
    "#Print Stats\n",
    "print(data_df.head())\n",
    "print(data_df.shape)\n"
   ]
  },
  {
   "cell_type": "code",
   "execution_count": 13,
   "metadata": {},
   "outputs": [
    {
     "data": {
      "text/plain": [
       "Text(0, 0.5, 'Number of Games Played')"
      ]
     },
     "execution_count": 13,
     "metadata": {},
     "output_type": "execute_result"
    },
    {
     "data": {
      "image/png": "[encoded data removed]",
      "text/plain": [
       "<Figure size 432x288 with 1 Axes>"
      ]
     },
     "metadata": {
      "needs_background": "light"
     },
     "output_type": "display_data"
    }
   ],
   "source": [
    "total_amount_games=data_df[\"Player\"].value_counts()\n",
    "total_amount_games.plot(kind=\"bar\",color=[\"purple\",\"red\"])\n",
    "plt.show\n",
    "plt.title(\"Total of Games Played\")\n",
    "plt.ylabel(\"Number of Games Played\")"
   ]
  },
  {
   "cell_type": "code",
   "execution_count": 26,
   "metadata": {},
   "outputs": [
    {
     "data": {
      "text/plain": [
       "Player  Win\n",
       "Shaq    1      819\n",
       "MJ      1      706\n",
       "Shaq    0      388\n",
       "MJ      0      366\n",
       "dtype: int64"
      ]
     },
     "execution_count": 26,
     "metadata": {},
     "output_type": "execute_result"
    }
   ],
   "source": [
    "total_wins_losses=data_df[[\"Player\",\"Win\"]].value_counts()\n",
    "total_wins_losses\n"
   ]
  },
  {
   "cell_type": "code",
   "execution_count": 28,
   "metadata": {},
   "outputs": [
    {
     "data": {
      "text/plain": [
       "Text(0.5, 0, 'Wins=1, Losses=0')"
      ]
     },
     "execution_count": 28,
     "metadata": {},
     "output_type": "execute_result"
    },
    {
     "data": {
      "image/png": "[encoded data removed]",
      "text/plain": [
       "<Figure size 432x288 with 1 Axes>"
      ]
     },
     "metadata": {
      "needs_background": "light"
     },
     "output_type": "display_data"
    }
   ],
   "source": [
    "total_wins_losses.plot(kind=\"bar\",color=[\"purple\",\"red\",\"purple\",\"red\"])\n",
    "plt.title(\"Overall Games Won vs. Games Lost\")\n",
    "plt.xlabel(\"Wins=1, Losses=0\")"
   ]
  },
  {
   "cell_type": "code",
   "execution_count": null,
   "metadata": {},
   "outputs": [],
   "source": []
  },
  {
   "cell_type": "code",
   "execution_count": null,
   "metadata": {},
   "outputs": [],
   "source": []
  },
  {
   "cell_type": "code",
   "execution_count": null,
   "metadata": {},
   "outputs": [],
   "source": []
  },
  {
   "cell_type": "code",
   "execution_count": null,
   "metadata": {},
   "outputs": [],
   "source": []
  },
  {
   "cell_type": "code",
   "execution_count": null,
   "metadata": {},
   "outputs": [],
   "source": []
  },
  {
   "cell_type": "code",
   "execution_count": null,
   "metadata": {},
   "outputs": [],
   "source": []
  }
 ],
 "metadata": {
  "kernelspec": {
   "display_name": "Python 3",
   "language": "python",
   "name": "python3"
  },
  "language_info": {
   "codemirror_mode": {
    "name": "ipython",
    "version": 3
   },
   "file_extension": ".py",
   "mimetype": "text/x-python",
   "name": "python",
   "nbconvert_exporter": "python",
   "pygments_lexer": "ipython3",
   "version": "3.8.5"
  }
 },
 "nbformat": 4,
 "nbformat_minor": 4
}

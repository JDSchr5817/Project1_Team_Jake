{
 "cells": [
  {
   "cell_type": "code",
   "execution_count": 104,
   "metadata": {},
   "outputs": [
    {
     "name": "stdout",
     "output_type": "stream",
     "text": [
      "  Player  Game        Date        Age Team  Home Opposition  Win  Difference  \\\n",
      "0     MJ     1  10/26/1984  21.689938  CHI     1        WSB    1          16   \n",
      "1     MJ     2  10/27/1984  21.692676  CHI     0        MIL    0          -2   \n",
      "2     MJ     3  10/29/1984  21.698152  CHI     1        MIL    1           6   \n",
      "3     MJ     4  10/30/1984  21.700890  CHI     0        KCK    1           5   \n",
      "4     MJ     5   11/1/1984  21.706366  CHI     0        DEN    0         -16   \n",
      "\n",
      "   GS  ...  ORB  DRB  TRB  AST  STL  BLK  TOV  PF  PTS  GmSc  \n",
      "0   1  ...    1    5    6    7    2    4    5   2   16  12.5  \n",
      "1   1  ...    3    2    5    5    2    1    3   4   21  19.4  \n",
      "2   1  ...    2    2    4    5    6    2    3   4   37  32.9  \n",
      "3   1  ...    2    2    4    5    3    1    6   5   25  14.7  \n",
      "4   1  ...    3    2    5    5    1    1    2   4   17  13.2  \n",
      "\n",
      "[5 rows x 30 columns]\n",
      "(2279, 30)\n"
     ]
    }
   ],
   "source": [
    "#Dependencies and Setup\n",
    "import matplotlib.pyplot as plt\n",
    "import pandas as pd\n",
    "import scipy.stats as st\n",
    "import numpy as np\n",
    "import scipy.stats as st\n",
    "from scipy.stats import linregress\n",
    "\n",
    "#Locating Data\n",
    "import os \n",
    "\n",
    "MJ_Stats_Path = os.path.join(\"Resources\", \"MJ-Stats.csv\")\n",
    "Shaq_Stats_Path = os.path.join(\"Resources\", \"Shaq-Stats.csv\")\n",
    "\n",
    "#Reading Data\n",
    "MJ_Stats = pd.read_csv(MJ_Stats_Path)\n",
    "Shaq_Stats = pd.read_csv(Shaq_Stats_Path)\n",
    "\n",
    "#Merge Data\n",
    "data_df = pd.concat([MJ_Stats, Shaq_Stats])\n",
    "\n",
    "#Print Stats\n",
    "print(data_df.head())\n",
    "print(data_df.shape)"
   ]
  },
  {
   "cell_type": "code",
   "execution_count": 105,
   "metadata": {},
   "outputs": [
    {
     "name": "stdout",
     "output_type": "stream",
     "text": [
      "     Player  Game        Date        Age Team  Home Opposition  Win  \\\n",
      "0        MJ     1  10/26/1984  21.689938  CHI     1        WSB    1   \n",
      "1        MJ     2  10/27/1984  21.692676  CHI     0        MIL    0   \n",
      "2        MJ     3  10/29/1984  21.698152  CHI     1        MIL    1   \n",
      "3        MJ     4  10/30/1984  21.700890  CHI     0        KCK    1   \n",
      "4        MJ     5   11/1/1984  21.706366  CHI     0        DEN    0   \n",
      "...     ...   ...         ...        ...  ...   ...        ...  ...   \n",
      "1067   Shaq  1068    1/2/2009  36.826800  PHO     1        LAC    1   \n",
      "1068   Shaq  1069    1/9/2009  36.846000  PHO     1        DAL    1   \n",
      "1069   Shaq  1070   1/11/2009  36.851500  PHO     0        LAC    1   \n",
      "1070   Shaq  1071   1/13/2009  36.856900  PHO     1        ATL    1   \n",
      "1071   Shaq  1072   1/16/2009  36.865200  PHO     1        MIN    0   \n",
      "\n",
      "      Difference  GS  ...  ORB  DRB  TRB  AST  STL  BLK  TOV  PF  PTS  GmSc  \n",
      "0             16   1  ...    1    5    6    7    2    4    5   2   16  12.5  \n",
      "1             -2   1  ...    3    2    5    5    2    1    3   4   21  19.4  \n",
      "2              6   1  ...    2    2    4    5    6    2    3   4   37  32.9  \n",
      "3              5   1  ...    2    2    4    5    3    1    6   5   25  14.7  \n",
      "4            -16   1  ...    3    2    5    5    1    1    2   4   17  13.2  \n",
      "...          ...  ..  ...  ...  ...  ...  ...  ...  ...  ...  ..  ...   ...  \n",
      "1067           8   1  ...    1    8    9    1    1    2    2   4   17  11.7  \n",
      "1068          28   1  ...    2    8   10    0    0    2    2   2   25  20.5  \n",
      "1069           6   1  ...    2    8   10    2    1    2    0   3   15  15.7  \n",
      "1070           5   1  ...    2    8   10    2    0    3    1   3   26  21.2  \n",
      "1071          -2   1  ...    2    9   11    4    1    0    1   5   22  20.2  \n",
      "\n",
      "[2144 rows x 30 columns]\n",
      "Player\n",
      "MJ      5633\n",
      "Shaq    2848\n",
      "Name: AST, dtype: int64\n"
     ]
    },
    {
     "data": {
      "text/plain": [
       "Text(0, 0.5, 'Number of assists')"
      ]
     },
     "execution_count": 105,
     "metadata": {},
     "output_type": "execute_result"
    },
    {
     "data": {
      "image/png": "[encoded data removed]",
      "text/plain": [
       "<Figure size 432x288 with 1 Axes>"
      ]
     },
     "metadata": {
      "needs_background": "light"
     },
     "output_type": "display_data"
    }
   ],
   "source": [
    "data_df = pd.concat([MJ_Stats, Shaq_Stats.iloc[:1072]])\n",
    "print(data_df)\n",
    "df_assists = data_df.groupby('Player')['AST'].sum()\n",
    "print(df_assists)\n",
    "buckets = [0, 268, 536, 804, 1073]\n",
    "bucket_labels = [\"early\", \"mid\",\"mid-late\",\"late\"]\n",
    "data_df['time period'] = pd.cut(data_df['Game'], buckets, labels = bucket_labels)\n",
    "df_2 = data_df.groupby(['time period', 'Player'])['AST'].sum()\n",
    "ax = df_2.plot(kind = 'bar')\n",
    "ax.set_ylabel(\"Number of assists\")\n"
   ]
  },
  {
   "cell_type": "code",
   "execution_count": 106,
   "metadata": {},
   "outputs": [
    {
     "data": {
      "text/plain": [
       "([<matplotlib.patches.Wedge at 0x1b05fb2ffd0>,\n",
       "  <matplotlib.patches.Wedge at 0x1b05f9206d0>],\n",
       " [Text(-0.5425729311378015, 0.9568775336460432, 'MJ assists'),\n",
       "  Text(0.5425729311378014, -0.9568775336460433, 'Shaq assists')],\n",
       " [Text(-0.2959488715297099, 0.521933200170569, '66.4%'),\n",
       "  Text(0.29594887152970983, -0.5219332001705691, '33.6%')])"
      ]
     },
     "execution_count": 106,
     "metadata": {},
     "output_type": "execute_result"
    },
    {
     "data": {
      "image/png": "[encoded data removed]",
      "text/plain": [
       "<Figure size 432x288 with 1 Axes>"
      ]
     },
     "metadata": {},
     "output_type": "display_data"
    }
   ],
   "source": [
    "labels = 'MJ assists', 'Shaq assists'\n",
    "plt.pie(data_df.groupby('Player')['AST'].sum(),labels=labels, autopct='%1.1f%%')"
   ]
  },
  {
   "cell_type": "code",
   "execution_count": null,
   "metadata": {},
   "outputs": [],
   "source": []
  }
 ],
 "metadata": {
  "kernelspec": {
   "display_name": "Python 3",
   "language": "python",
   "name": "python3"
  },
  "language_info": {
   "codemirror_mode": {
    "name": "ipython",
    "version": 3
   },
   "file_extension": ".py",
   "mimetype": "text/x-python",
   "name": "python",
   "nbconvert_exporter": "python",
   "pygments_lexer": "ipython3",
   "version": "3.8.5"
  }
 },
 "nbformat": 4,
 "nbformat_minor": 4
}

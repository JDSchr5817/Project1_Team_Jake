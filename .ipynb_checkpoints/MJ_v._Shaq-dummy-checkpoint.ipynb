{
 "cells": [
  {
   "cell_type": "code",
   "execution_count": 2,
   "metadata": {},
   "outputs": [
    {
     "name": "stdout",
     "output_type": "stream",
     "text": [
      "  Player  Game        Date        Age Team  Home Opposition  Win  Difference  \\\n",
      "0     MJ     1  10/26/1984  21.689938  CHI     1        WSB    1          16   \n",
      "1     MJ     2  10/27/1984  21.692676  CHI     0        MIL    0          -2   \n",
      "2     MJ     3  10/29/1984  21.698152  CHI     1        MIL    1           6   \n",
      "3     MJ     4  10/30/1984  21.700890  CHI     0        KCK    1           5   \n",
      "4     MJ     5   11/1/1984  21.706366  CHI     0        DEN    0         -16   \n",
      "\n",
      "   GS  ...  ORB  DRB  TRB  AST  STL  BLK  TOV  PF  PTS  GmSc  \n",
      "0   1  ...    1    5    6    7    2    4    5   2   16  12.5  \n",
      "1   1  ...    3    2    5    5    2    1    3   4   21  19.4  \n",
      "2   1  ...    2    2    4    5    6    2    3   4   37  32.9  \n",
      "3   1  ...    2    2    4    5    3    1    6   5   25  14.7  \n",
      "4   1  ...    3    2    5    5    1    1    2   4   17  13.2  \n",
      "\n",
      "[5 rows x 30 columns]\n",
      "(2279, 30)\n"
     ]
    }
   ],
   "source": [
    "#Dependencies and Setup\n",
    "import matplotlib.pyplot as plt\n",
    "import pandas as pd\n",
    "import scipy.stats as st\n",
    "import numpy as np\n",
    "import scipy.stats as st\n",
    "from scipy.stats import linregress\n",
    "\n",
    "#Locating Data\n",
    "import os \n",
    "\n",
    "MJ_Stats_Path = os.path.join(\"Resources\", \"MJ-Stats.csv\")\n",
    "Shaq_Stats_Path = os.path.join(\"Resources\", \"Shaq-Stats.csv\")\n",
    "\n",
    "#Reading Data\n",
    "MJ_Stats = pd.read_csv(MJ_Stats_Path)\n",
    "Shaq_Stats = pd.read_csv(Shaq_Stats_Path)\n",
    "\n",
    "#Merge Data\n",
    "data_df = pd.concat([MJ_Stats, Shaq_Stats])\n",
    "\n",
    "#Print Stats\n",
    "print(data_df.head())\n",
    "print(data_df.shape)\n"
   ]
  },
  {
   "cell_type": "code",
   "execution_count": 3,
   "metadata": {},
   "outputs": [
    {
     "data": {
      "text/plain": [
       "Index(['Player', 'Game', 'Date', 'Age', 'Team', 'Home', 'Opposition', 'Win',\n",
       "       'Difference', 'GS', 'Minutes Played', 'FG', 'FGA', 'FG%', '3P', '3PA',\n",
       "       '3P%', 'FT', 'FTA', 'FT%', 'ORB', 'DRB', 'TRB', 'AST', 'STL', 'BLK',\n",
       "       'TOV', 'PF', 'PTS', 'GmSc'],\n",
       "      dtype='object')"
      ]
     },
     "execution_count": 3,
     "metadata": {},
     "output_type": "execute_result"
    }
   ],
   "source": [
    "data_df.columns"
   ]
  },
  {
   "cell_type": "code",
   "execution_count": 4,
   "metadata": {},
   "outputs": [
    {
     "data": {
      "text/plain": [
       "<function matplotlib.pyplot.show(close=None, block=None)>"
      ]
     },
     "execution_count": 4,
     "metadata": {},
     "output_type": "execute_result"
    },
    {
     "data": {
      "image/png": "[encoded data removed]",
      "text/plain": [
       "<Figure size 432x288 with 1 Axes>"
      ]
     },
     "metadata": {
      "needs_background": "light"
     },
     "output_type": "display_data"
    }
   ],
   "source": [
    "\n",
    "total_amount_games=data_df[\"Player\"].value_counts()\n",
    "total_amount_games.plot(kind=\"bar\")\n",
    "plt.show"
   ]
  },
  {
   "cell_type": "code",
   "execution_count": 8,
   "metadata": {},
   "outputs": [
    {
     "data": {
      "text/plain": [
       "Player  Win\n",
       "Shaq    1      819\n",
       "MJ      1      706\n",
       "Shaq    0      388\n",
       "MJ      0      366\n",
       "dtype: int64"
      ]
     },
     "execution_count": 8,
     "metadata": {},
     "output_type": "execute_result"
    }
   ],
   "source": [
    "total_wins=data_df[[\"Player\",\"Win\"]].value_counts()\n",
    "\n",
    "total_wins"
   ]
  },
  {
   "cell_type": "code",
   "execution_count": null,
   "metadata": {},
   "outputs": [],
   "source": []
  },
  {
   "cell_type": "code",
   "execution_count": 6,
   "metadata": {},
   "outputs": [
    {
     "ename": "NameError",
     "evalue": "name 'mj_spurs_wins_total' is not defined",
     "output_type": "error",
     "traceback": [
      "\u001b[0;31m---------------------------------------------------------------------------\u001b[0m",
      "\u001b[0;31mNameError\u001b[0m                                 Traceback (most recent call last)",
      "\u001b[0;32m<ipython-input-6-f50fb61af865>\u001b[0m in \u001b[0;36m<module>\u001b[0;34m\u001b[0m\n\u001b[0;32m----> 1\u001b[0;31m mj_overall_spurs=pd.DataFrame({\"Wins\":mj_spurs_wins_total,\n\u001b[0m\u001b[1;32m      2\u001b[0m                                \"Losses\":mj_spurs_total_loss}, index=[0])\n\u001b[1;32m      3\u001b[0m \u001b[0;34m\u001b[0m\u001b[0m\n\u001b[1;32m      4\u001b[0m \u001b[0mmj_overall_spurs\u001b[0m\u001b[0;34m\u001b[0m\u001b[0;34m\u001b[0m\u001b[0m\n",
      "\u001b[0;31mNameError\u001b[0m: name 'mj_spurs_wins_total' is not defined"
     ]
    }
   ],
   "source": []
  },
  {
   "cell_type": "code",
   "execution_count": null,
   "metadata": {},
   "outputs": [],
   "source": []
  },
  {
   "cell_type": "code",
   "execution_count": null,
   "metadata": {},
   "outputs": [],
   "source": []
  },
  {
   "cell_type": "code",
   "execution_count": null,
   "metadata": {},
   "outputs": [],
   "source": []
  },
  {
   "cell_type": "code",
   "execution_count": null,
   "metadata": {},
   "outputs": [],
   "source": []
  }
 ],
 "metadata": {
  "kernelspec": {
   "display_name": "Python 3",
   "language": "python",
   "name": "python3"
  },
  "language_info": {
   "codemirror_mode": {
    "name": "ipython",
    "version": 3
   },
   "file_extension": ".py",
   "mimetype": "text/x-python",
   "name": "python",
   "nbconvert_exporter": "python",
   "pygments_lexer": "ipython3",
   "version": "3.8.5"
  }
 },
 "nbformat": 4,
 "nbformat_minor": 4
}
